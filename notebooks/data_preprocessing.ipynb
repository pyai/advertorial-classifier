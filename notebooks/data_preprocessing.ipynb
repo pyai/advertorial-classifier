{
 "cells": [
  {
   "cell_type": "code",
   "execution_count": 8,
   "metadata": {},
   "outputs": [],
   "source": [
    "import os\n",
    "os.chdir('/home/jupyter/gitlab/advertorial-classifier')\n",
    "import pandas as pd"
   ]
  },
  {
   "cell_type": "code",
   "execution_count": 39,
   "metadata": {},
   "outputs": [],
   "source": [
    "def preprocess(df):\n",
    "    print(f'before preprocess: {df.shape}')\n",
    "    df = (df.dropna()\n",
    "            .drop_duplicates()[['post_text', 'cate']]\n",
    "            .rename(columns={'post_text':'text','cate':'label'})\n",
    "            .reset_index(drop=True)\n",
    "        )\n",
    "    print(f'after process: {df.shape}')\n",
    "    return df\n",
    "\n",
    "def format(df):\n",
    "    df['label'] = df.apply(lambda x: 1 if x.label == 'yes' else (0 if x.label == 'no' else -1), axis=1) \n",
    "    #assert df[df.label == -1].shape[0] == 0\n",
    "    return df\n",
    "\n",
    "def concat(dfs):\n",
    "    return pd.concat(dfs).drop_duplicates().reset_index(drop=True)\n",
    "\n",
    "def add_new_data(old, new):\n",
    "    df = concat([old, new])\n",
    "    df.to_csv(f'./data/milelens_advertorial_dataset_formatted_{df.shape[0]}.csv', index=False)\n"
   ]
  },
  {
   "cell_type": "code",
   "execution_count": 40,
   "metadata": {},
   "outputs": [
    {
     "name": "stdout",
     "output_type": "stream",
     "text": [
      "before preprocess: (4769, 8)\n",
      "after process: (4769, 2)\n"
     ]
    }
   ],
   "source": [
    "old= pd.read_csv('./data/milelens_advertorial_dataset_formatted_18900.csv')\n",
    "new = pd.read_excel('./data/業配文訓練資料_2023-05-30.xlsx', sheet_name='training_set_20220529')\n",
    "new = (new.pipe(preprocess)\n",
    "       .pipe(format)\n",
    "      )\n",
    "new.to_csv('./data/unseen_2023-05-30.csv', index=False)\n",
    "add_new_data(old, new)"
   ]
  }
 ],
 "metadata": {
  "kernelspec": {
   "display_name": "kol_exp",
   "language": "python",
   "name": "python3"
  },
  "language_info": {
   "codemirror_mode": {
    "name": "ipython",
    "version": 3
   },
   "file_extension": ".py",
   "mimetype": "text/x-python",
   "name": "python",
   "nbconvert_exporter": "python",
   "pygments_lexer": "ipython3",
   "version": "3.9.5"
  },
  "orig_nbformat": 4
 },
 "nbformat": 4,
 "nbformat_minor": 2
}
