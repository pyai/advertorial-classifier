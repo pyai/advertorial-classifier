{
 "cells": [
  {
   "cell_type": "markdown",
   "id": "91a8bb1c-b6ee-452c-aba5-2ae1aa964e5f",
   "metadata": {},
   "source": [
    "# Clean data for Vertex AI training"
   ]
  },
  {
   "cell_type": "code",
   "execution_count": 1,
   "id": "032f7388-9cab-4339-b87c-8dc1bd766ddd",
   "metadata": {},
   "outputs": [],
   "source": [
    "import pandas as pd\n",
    "import csv\n"
   ]
  },
  {
   "cell_type": "code",
   "execution_count": 2,
   "id": "ae1e25a8-1c2f-4e56-b942-4a56fbfef6c9",
   "metadata": {},
   "outputs": [],
   "source": [
    "df = pd.read_csv(\"./data/advertorial_dataset.csv\").dropna().astype(str)\n",
    "select_cols = [\"post_text\", \"yes/no\"]\n",
    "rename_cols = [\"text\", \"label\"]\n",
    "df = df[select_cols].rename(dict(zip(select_cols, rename_cols)), axis=\"columns\")"
   ]
  },
  {
   "cell_type": "code",
   "execution_count": 3,
   "id": "cf9458ab-1365-426b-a540-f8cb3860fab0",
   "metadata": {},
   "outputs": [],
   "source": [
    "# define a function to replace '\\n' with ' '\n",
    "def replace_newline(text):\n",
    "    return text.replace(\"\\n\", \" \")\n",
    "\n",
    "# apply the function to the 'text' column\n",
    "df[\"text\"] = df[\"text\"].apply(replace_newline)"
   ]
  },
  {
   "cell_type": "code",
   "execution_count": 4,
   "id": "e099d74f-79ba-4b70-9291-68847fcdadbb",
   "metadata": {},
   "outputs": [],
   "source": [
    "df.to_csv(\"./data/advertorial_dataset_formatted.csv\", index=False, header=False, quoting=csv.QUOTE_ALL)"
   ]
  }
 ],
 "metadata": {
  "environment": {
   "kernel": "python3",
   "name": "common-cu110.m103",
   "type": "gcloud",
   "uri": "gcr.io/deeplearning-platform-release/base-cu110:m103"
  },
  "kernelspec": {
   "display_name": "Python 3",
   "language": "python",
   "name": "python3"
  },
  "language_info": {
   "codemirror_mode": {
    "name": "ipython",
    "version": 3
   },
   "file_extension": ".py",
   "mimetype": "text/x-python",
   "name": "python",
   "nbconvert_exporter": "python",
   "pygments_lexer": "ipython3",
   "version": "3.7.12"
  }
 },
 "nbformat": 4,
 "nbformat_minor": 5
}
