{
 "cells": [
  {
   "cell_type": "code",
   "execution_count": 7,
   "metadata": {},
   "outputs": [],
   "source": [
    "import os\n",
    "os.chdir('/home/jupyter/gitlab/advertorial-classifier')\n",
    "import pandas as pd\n",
    "from google.cloud import bigquery\n",
    "from pandas_gbq import to_gbq"
   ]
  },
  {
   "cell_type": "code",
   "execution_count": 11,
   "metadata": {},
   "outputs": [
    {
     "name": "stderr",
     "output_type": "stream",
     "text": [
      "100%|██████████| 1/1 [00:00<00:00, 8594.89it/s]\n"
     ]
    }
   ],
   "source": [
    "df=pd.read_csv('./data/bk/業配文訓練資料-training_set_20231017.csv')\n",
    "df.cate = df.cate.apply(lambda x: '1' if x =='yes' else ( '0' if x == 'no' else x))\n",
    "df = df.drop_duplicates().dropna().reset_index(drop=True)\n",
    "\n",
    "project_id = 'milelens-dev'\n",
    "table='ML.advertorial_post_classifier_train'\n",
    "to_gbq(df, destination_table=table, project_id=project_id, if_exists='append')"
   ]
  }
 ],
 "metadata": {
  "kernelspec": {
   "display_name": "advertorial_clean",
   "language": "python",
   "name": "python3"
  },
  "language_info": {
   "codemirror_mode": {
    "name": "ipython",
    "version": 3
   },
   "file_extension": ".py",
   "mimetype": "text/x-python",
   "name": "python",
   "nbconvert_exporter": "python",
   "pygments_lexer": "ipython3",
   "version": "3.9.5"
  },
  "orig_nbformat": 4
 },
 "nbformat": 4,
 "nbformat_minor": 2
}
