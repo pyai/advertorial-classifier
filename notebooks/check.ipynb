{
 "cells": [
  {
   "cell_type": "code",
   "execution_count": null,
   "metadata": {},
   "outputs": [],
   "source": [
    "import os\n",
    "os.chdir('/home/bonzo_yang/gitlab/advertorial-classifier/')"
   ]
  },
  {
   "cell_type": "code",
   "execution_count": null,
   "metadata": {},
   "outputs": [],
   "source": [
    "from advertorial import dataset\n",
    "from transformers import AutoTokenizer, AutoModelForSequenceClassification\n",
    "from transformers import DataCollatorWithPadding\n",
    "from transformers import TrainingArguments, Trainer\n",
    "import wandb\n",
    "import numpy as np\n",
    "import evaluate"
   ]
  },
  {
   "cell_type": "code",
   "execution_count": null,
   "metadata": {},
   "outputs": [],
   "source": [
    "# advertorial_dataset = dataset.train_valid_test_from_file(csv_file_path= './data/milelens_advertorial_dataset_formatted.csv')\n",
    "# train, validation, test = advertorial_dataset['train'], advertorial_dataset['validation'], advertorial_dataset['test'] \n",
    "# id2label = {0: \"no\", 1: \"yes\"}\n",
    "# label2id = {\"no\": 0, \"yes\": 1}\n",
    "\n",
    "# pretrain_model =\"hfl/chinese-bert-wwm-ext\"\n",
    "# tokenizer = AutoTokenizer.from_pretrained(pretrain_model)\n",
    "# model = AutoModelForSequenceClassification.from_pretrained(\n",
    "#     pretrain_model, num_labels=2, id2label=id2label, label2id=label2id)\n",
    "\n",
    "\n",
    "advertorial_dataset = dataset.train_valid_test_from_file(csv_file_path= './data/milelens_advertorial_dataset_formatted.csv', train_ratio=1)\n",
    "train = advertorial_dataset['train']\n",
    "id2label = {0: \"no\", 1: \"yes\"}\n",
    "label2id = {\"no\": 0, \"yes\": 1}\n",
    "\n",
    "pretrain_model =\"hfl/chinese-bert-wwm-ext\"\n",
    "tokenizer = AutoTokenizer.from_pretrained(pretrain_model)\n",
    "model = AutoModelForSequenceClassification.from_pretrained(\n",
    "    pretrain_model, num_labels=2, id2label=id2label, label2id=label2id)"
   ]
  },
  {
   "cell_type": "code",
   "execution_count": null,
   "metadata": {},
   "outputs": [],
   "source": [
    "from advertorial.inference import AdvertorialModel\n",
    "adv = AdvertorialModel(model_path='./prebuilt_model/230525_chinese_bert_wwm_ext', use_gpu=True)"
   ]
  },
  {
   "cell_type": "code",
   "execution_count": null,
   "metadata": {},
   "outputs": [],
   "source": [
    "import pandas as pd\n",
    "def perf_report(model, dataset, name='train'):\n",
    "    from tqdm import tqdm\n",
    "    N = len(dataset)\n",
    "    step = 20\n",
    "    ones = 0\n",
    "    zeros = 0\n",
    "    hits = 0\n",
    "    miss = 0\n",
    "    predictions = []\n",
    "    for s in tqdm(range(0, N, step)):\n",
    "        s, e = s, s+step\n",
    "        prediction, probs = model(dataset[s:e]['text'])\n",
    "        \n",
    "        hits += np.sum(dataset[s:e]['label'] == prediction)\n",
    "        miss += np.sum(dataset[s:e]['label'] != prediction)\n",
    "        zeros += np.sum(dataset[s:e]['label'] == np.array(0))\n",
    "        ones += np.sum(dataset[s:e]['label'] == np.array(1))\n",
    "        predictions.append(prediction) \n",
    "\n",
    "    accuracy = hits/N\n",
    "    print(f'accuracy:{accuracy:.2f}, positive samples:{ones}, negative samples:{zeros}')  \n",
    "    performance_df = pd.DataFrame({'dataset':[name], \n",
    "                                   'records':[N], \n",
    "                                   'positive samples':[ones], \n",
    "                                   'negative samples':[zeros], \n",
    "                                   'hit':[hits],\n",
    "                                   'miss':[miss],\n",
    "                                   'accuracy':[accuracy], 'miss rate':[1-accuracy]})\n",
    "\n",
    "    predictions = np.concatenate(predictions)\n",
    "    error_ids = predictions != dataset['label']\n",
    "    error_df = pd.DataFrame({'text':np.array(dataset['text'])[error_ids], 'label':np.array(dataset['label'])[error_ids], 'prediction':predictions[error_ids]})\n",
    "    return error_df, performance_df"
   ]
  },
  {
   "cell_type": "code",
   "execution_count": null,
   "metadata": {},
   "outputs": [],
   "source": [
    "train_error, train_perf = perf_report(adv, train, 'train')\n",
    "validation_error, validation_perf = perf_report(adv, validation, 'validation')\n",
    "test_error, test_perf = perf_report(adv, test, 'test')"
   ]
  },
  {
   "cell_type": "code",
   "execution_count": null,
   "metadata": {},
   "outputs": [],
   "source": [
    "pd.concat([train_perf, validation_perf, test_perf]).reset_index(drop=True)#.to_csv('performance.csv', index=False)\n",
    "#pd.concat([train_perf]).reset_index(drop=True)#.to_csv('performance.csv', index=False)"
   ]
  }
 ],
 "metadata": {
  "language_info": {
   "name": "python"
  },
  "orig_nbformat": 4
 },
 "nbformat": 4,
 "nbformat_minor": 2
}
